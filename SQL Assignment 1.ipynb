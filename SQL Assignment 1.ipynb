{
 "cells": [
  {
   "cell_type": "code",
   "execution_count": 1,
   "id": "0526e2e5",
   "metadata": {},
   "outputs": [
    {
     "data": {
      "text/plain": [
       "'C:\\\\Users\\\\Tanvi Shinde'"
      ]
     },
     "execution_count": 1,
     "metadata": {},
     "output_type": "execute_result"
    }
   ],
   "source": [
    "import os\n",
    "import sqlite3\n",
    "os.getcwd()"
   ]
  },
  {
   "cell_type": "raw",
   "id": "16e046a9",
   "metadata": {},
   "source": [
    "#CREAT AND CONNECT DATABASE"
   ]
  },
  {
   "cell_type": "code",
   "execution_count": 3,
   "id": "b4d96c2e",
   "metadata": {},
   "outputs": [],
   "source": [
    "connection = sqlite3.connect('TanviS.db')\n",
    "crsr = connection.cursor()"
   ]
  },
  {
   "cell_type": "code",
   "execution_count": 4,
   "id": "abfd5200",
   "metadata": {},
   "outputs": [],
   "source": [
    "# Creat A Table"
   ]
  },
  {
   "cell_type": "code",
   "execution_count": 5,
   "id": "39a2130d",
   "metadata": {},
   "outputs": [
    {
     "data": {
      "text/plain": [
       "<sqlite3.Cursor at 0x25bdb3df9c0>"
      ]
     },
     "execution_count": 5,
     "metadata": {},
     "output_type": "execute_result"
    }
   ],
   "source": [
    "sql_command=\"\"\"\n",
    "    CREATE TABLE IF NOT EXISTS Ages (\n",
    "        name VARCHAR(128),\n",
    "        age INTEGER\n",
    "    );\"\"\"\n",
    "crsr.execute(sql_command)"
   ]
  },
  {
   "cell_type": "code",
   "execution_count": 6,
   "id": "e50282bf",
   "metadata": {},
   "outputs": [],
   "source": [
    "#Delete Everything from Table (Ages)"
   ]
  },
  {
   "cell_type": "code",
   "execution_count": 7,
   "id": "cdc64d9e",
   "metadata": {},
   "outputs": [
    {
     "data": {
      "text/plain": [
       "<sqlite3.Cursor at 0x25bdb3df9c0>"
      ]
     },
     "execution_count": 7,
     "metadata": {},
     "output_type": "execute_result"
    }
   ],
   "source": [
    "crsr.execute('DELETE FROM Ages')"
   ]
  },
  {
   "cell_type": "code",
   "execution_count": 8,
   "id": "076027aa",
   "metadata": {},
   "outputs": [],
   "source": [
    "#Fetch Data from Table (Now table will be blank due to delete query in previous cell)"
   ]
  },
  {
   "cell_type": "code",
   "execution_count": 9,
   "id": "9585cf5b",
   "metadata": {},
   "outputs": [],
   "source": [
    "crsr.execute(\"SELECT * FROM Ages\")\n",
    "data=crsr.fetchall()\n",
    "for j in data:\n",
    "  print(i)"
   ]
  },
  {
   "cell_type": "code",
   "execution_count": 10,
   "id": "87be8fc1",
   "metadata": {},
   "outputs": [],
   "source": [
    "#Insert Data in table"
   ]
  },
  {
   "cell_type": "code",
   "execution_count": 11,
   "id": "fc0e0faa",
   "metadata": {},
   "outputs": [],
   "source": [
    "sql_command=\"\"\"INSERT INTO Ages VALUES ('Mara', 28);\"\"\"\n",
    "crsr.execute(sql_command)\n",
    "sql_command=\"\"\"INSERT INTO Ages VALUES ('Otto', 33);\"\"\"\n",
    "crsr.execute(sql_command)\n",
    "sql_command=\"\"\"INSERT INTO Ages VALUES ('Fyn', 31);\"\"\"\n",
    "crsr.execute(sql_command)\n",
    "sql_command=\"\"\"INSERT INTO Ages VALUES ('Neshawn', 17);\"\"\"\n",
    "crsr.execute(sql_command)\n",
    "connection.commit()"
   ]
  },
  {
   "cell_type": "code",
   "execution_count": 12,
   "id": "ee67f1a9",
   "metadata": {},
   "outputs": [],
   "source": [
    "#Fetch the data in table"
   ]
  },
  {
   "cell_type": "code",
   "execution_count": 13,
   "id": "644360e7",
   "metadata": {},
   "outputs": [
    {
     "name": "stdout",
     "output_type": "stream",
     "text": [
      "('Mara', 28)\n",
      "('Otto', 33)\n",
      "('Fyn', 31)\n",
      "('Neshawn', 17)\n"
     ]
    }
   ],
   "source": [
    "crsr.execute(\"SELECT * FROM Ages\")\n",
    "data=crsr.fetchall()\n",
    "for i in data:\n",
    "  print(i)"
   ]
  },
  {
   "cell_type": "code",
   "execution_count": 15,
   "id": "7d91c4eb",
   "metadata": {},
   "outputs": [],
   "source": [
    "#SQL Command"
   ]
  },
  {
   "cell_type": "code",
   "execution_count": 16,
   "id": "cfca4aaf",
   "metadata": {},
   "outputs": [
    {
     "name": "stdout",
     "output_type": "stream",
     "text": [
      "('Mara', 28)\n",
      "('Otto', 33)\n",
      "('Fyn', 31)\n",
      "('Neshawn', 17)\n"
     ]
    }
   ],
   "source": [
    "crsr.execute(\"SELECT hex(name || age) AS X FROM Ages ORDER BY X\")\n",
    "result_set=crsr.fetchall()\n",
    "for k in data:\n",
    "  print(k)"
   ]
  },
  {
   "cell_type": "code",
   "execution_count": 17,
   "id": "afbbf75a",
   "metadata": {},
   "outputs": [],
   "source": [
    "#Find first row and result the recorded set"
   ]
  },
  {
   "cell_type": "code",
   "execution_count": 18,
   "id": "9168d4e3",
   "metadata": {},
   "outputs": [
    {
     "name": "stdout",
     "output_type": "stream",
     "text": [
      "The first row in the resulting record set: 46796E3331\n"
     ]
    }
   ],
   "source": [
    "# Find and print the first row\n",
    "if result_set:\n",
    "    first_row = result_set[0][0]\n",
    "    print(\"The first row in the resulting record set:\", first_row)\n",
    "connection.close()"
   ]
  },
  {
   "cell_type": "code",
   "execution_count": 19,
   "id": "f6450b00",
   "metadata": {},
   "outputs": [],
   "source": [
    "long_string=\"53656C696E613333\"\n"
   ]
  },
  {
   "cell_type": "code",
   "execution_count": null,
   "id": "e0dffaaf",
   "metadata": {},
   "outputs": [],
   "source": []
  }
 ],
 "metadata": {
  "kernelspec": {
   "display_name": "Python 3 (ipykernel)",
   "language": "python",
   "name": "python3"
  },
  "language_info": {
   "codemirror_mode": {
    "name": "ipython",
    "version": 3
   },
   "file_extension": ".py",
   "mimetype": "text/x-python",
   "name": "python",
   "nbconvert_exporter": "python",
   "pygments_lexer": "ipython3",
   "version": "3.11.4"
  }
 },
 "nbformat": 4,
 "nbformat_minor": 5
}
